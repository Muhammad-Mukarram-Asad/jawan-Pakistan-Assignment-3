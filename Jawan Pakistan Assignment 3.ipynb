{
 "cells": [
  {
   "cell_type": "code",
   "execution_count": 35,
   "metadata": {},
   "outputs": [
    {
     "name": "stdout",
     "output_type": "stream",
     "text": [
      "Twinkle,twinkle,little star,\n",
      "              How I wonder what you are!\n",
      "                     Up above the world so high,\n",
      "                     Like a diamond in the sky.\n",
      "      Twinkle, twinkle, little star,\n",
      "                 How I wonder what you are\n"
     ]
    }
   ],
   "source": [
    "# Q.1) Write a python program to print the following string in a specific format.\n",
    "print('''Twinkle,twinkle,little star,\n",
    "              How I wonder what you are!\n",
    "                     Up above the world so high,\n",
    "                     Like a diamond in the sky.\n",
    "      Twinkle, twinkle, little star,\n",
    "                 How I wonder what you are''')"
   ]
  },
  {
   "cell_type": "code",
   "execution_count": null,
   "metadata": {},
   "outputs": [],
   "source": [
    "# Q.2) Write a python program to get the Python version you are using.\n",
    "from platform import python_version\n",
    "print(\"The version of python is = \", python_version())\n"
   ]
  },
  {
   "cell_type": "code",
   "execution_count": 14,
   "metadata": {},
   "outputs": [
    {
     "name": "stdout",
     "output_type": "stream",
     "text": [
      " Current date is = 2021-10-23 &  Current Time is = 21:45:12\n"
     ]
    }
   ],
   "source": [
    "# Q.3)  Write a python program to print current date and time.\n",
    "import datetime\n",
    "now = datetime.datetime.now()\n",
    "print (now.strftime(\" Current date is = %Y-%m-%d & Current Time is = %H:%M:%S\"))"
   ]
  },
  {
   "cell_type": "code",
   "execution_count": 18,
   "metadata": {},
   "outputs": [
    {
     "name": "stdout",
     "output_type": "stream",
     "text": [
      "Enter the radius of a circle in order to compute its area: 4\n",
      "The area of the circle is =50.265 \n"
     ]
    }
   ],
   "source": [
    "# Q.4)  Write a program which accepts the radius of a circle from the user and computer the area of the circle.\n",
    "radius = int(input(\"Enter the radius of a circle in order to compute its area: \"))\n",
    "import math\n",
    "Area = (math.pi)* radius**2\n",
    "print(\"The area of the circle is =%.3f \" %Area)"
   ]
  },
  {
   "cell_type": "code",
   "execution_count": 24,
   "metadata": {},
   "outputs": [
    {
     "name": "stdout",
     "output_type": "stream",
     "text": [
      "ENter your First name :hello\n",
      " ENter your second name :world\n",
      "world hello\n"
     ]
    }
   ],
   "source": [
    "# Q.5)  Write a program which accepts user's first name and last name and print them in reverse order \n",
    "# with space between them.\n",
    "first_name = input(\"ENter your First name :\")\n",
    "last_name = input(\" ENter your second name :\")\n",
    "print(last_name,first_name, sep=\" \")"
   ]
  },
  {
   "cell_type": "code",
   "execution_count": null,
   "metadata": {},
   "outputs": [],
   "source": [
    "# Q.6)  Write a program which takes teo inputs from user and print their addition?\n",
    "n1 = int(input(\"Enter the first number:\"))\n",
    "n2 = int(input(\"Enter the second number:\"))\n",
    "result =  n1+n2\n",
    "print(\"The additio of the above numbers is = \", result)\n"
   ]
  },
  {
   "cell_type": "code",
   "execution_count": 38,
   "metadata": {},
   "outputs": [
    {
     "name": "stdout",
     "output_type": "stream",
     "text": [
      "Enter the marks of First Subject:80\n",
      "Enter the marks of Second Subject:82\n",
      "Enter the marks of Third Subject:84\n",
      "Enter the marks of Fourth Subject:86\n",
      "Enter the marks of Fifth Subject:88\n",
      "The percentage is = 84.000\n",
      "Your Grade is A-.\n"
     ]
    }
   ],
   "source": [
    "# Q.7) Write a python program which takes 5 inputs from the user then total it and find percentage and grades also.\n",
    "marks_1 = int(input(\"Enter the marks of First Subject:\"))\n",
    "marks_2 = int(input(\"Enter the marks of Second Subject:\"))\n",
    "marks_3 = int(input(\"Enter the marks of Third Subject:\"))\n",
    "marks_4 = int(input(\"Enter the marks of Fourth Subject:\"))\n",
    "marks_5 = int(input(\"Enter the marks of Fifth Subject:\"))\n",
    "Total_marks = 500\n",
    "Obtained_Marks = marks_1+marks_2+marks_3+marks_4+marks_5\n",
    "Percentage = ((marks_1+marks_2+marks_3+marks_4+marks_5)/Total_marks) *100\n",
    "print(\"The percentage is = %.3f\" %Percentage)\n",
    "\n",
    "if(Percentage>=90 and Percentage<=100):\n",
    "    print(\"Your Grade is A+.\")\n",
    "elif(Percentage>=80 and Percentage<90):\n",
    "    print(\"Your Grade is A-.\")\n",
    "elif(Percentage>=70 and Percentage<80):\n",
    "    print(\"Your Grade is B+.\")\n",
    "elif(Percentage>=60 and Percentage<70):\n",
    "    print(\"Your Grade is B-.\")\n",
    "elif(Percentage>=50 and Percentage<60):\n",
    "    print(\"Your Grade is C.\")\n",
    "elif(Percentage>=40 and Percentage<50):\n",
    "    print(\"Your Grade is D.\")\n",
    "elif(Percentage>=33 and Percentage<40):\n",
    "    print(\"Your Grade is E.\")\n",
    "else:\n",
    "    print(\"Your Grade is F.\")"
   ]
  },
  {
   "cell_type": "code",
   "execution_count": null,
   "metadata": {},
   "outputs": [],
   "source": [
    "# Q.8)  Write a program which takes input from the user and identify that the given number is even or odd?\n",
    "number = int(input(\"Enter a number please:\"))\n",
    "if(number%2==0):\n",
    "    print(\"The entered number is  Even.\")\n",
    "elsse:\n",
    "    prit(\"Odd number entered.\")"
   ]
  },
  {
   "cell_type": "code",
   "execution_count": 25,
   "metadata": {},
   "outputs": [
    {
     "name": "stdout",
     "output_type": "stream",
     "text": [
      "The length of the above list is =  9\n"
     ]
    }
   ],
   "source": [
    "# Q.9)  Write a program  which prints the length of the list?\n",
    "l = [1,2,3,5,6,8,10,14,15]\n",
    "print(\"The length of the above list is = \", len(l))\n"
   ]
  },
  {
   "cell_type": "code",
   "execution_count": 26,
   "metadata": {},
   "outputs": [
    {
     "name": "stdout",
     "output_type": "stream",
     "text": [
      "The sum of all numeric items in the above given list is given below:\n",
      "The sum is =  64\n"
     ]
    }
   ],
   "source": [
    "# Q.10)  Write a python program  to sum all the numeric items in a list?\n",
    "l = [1,2,3,5,6,8,10,14,15]\n",
    "\n",
    "print(\"The sum of all numeric items in the above given list is given below:\")\n",
    "Sum = 0\n",
    "for i in l:\n",
    "    Sum+=i\n",
    "print(\"The sum is = \" , Sum)"
   ]
  },
  {
   "cell_type": "code",
   "execution_count": 28,
   "metadata": {},
   "outputs": [
    {
     "name": "stdout",
     "output_type": "stream",
     "text": [
      "The largest number in the above list is =  67\n"
     ]
    }
   ],
   "source": [
    "# Q.11)  Write a python program  to get the largest number from a numeric list?\n",
    "L = [10,50,20,60,48,52,49,67,1,5,55]\n",
    "print(\"The largest number in the above list is = \", max(L))"
   ]
  },
  {
   "cell_type": "code",
   "execution_count": 33,
   "metadata": {},
   "outputs": [
    {
     "name": "stdout",
     "output_type": "stream",
     "text": [
      "The elements which are less than 5 in the above list are = \n",
      "1 1 2 3 "
     ]
    }
   ],
   "source": [
    "# Q.12)  Take a list for example this one:\n",
    "a = [1,1,2,3,5,8,13,21,34,55,89]\n",
    "# Write a program that prints out all the elements of the list that are less than 5.\n",
    "\n",
    "print(\"The elements which are less than 5 in the above list are = \")\n",
    "for i in a:\n",
    "    if(i<5):\n",
    "        print(i , end=\" \")\n"
   ]
  },
  {
   "cell_type": "code",
   "execution_count": null,
   "metadata": {},
   "outputs": [],
   "source": []
  },
  {
   "cell_type": "code",
   "execution_count": null,
   "metadata": {},
   "outputs": [],
   "source": [
    " "
   ]
  },
  {
   "cell_type": "code",
   "execution_count": null,
   "metadata": {},
   "outputs": [],
   "source": []
  },
  {
   "cell_type": "code",
   "execution_count": null,
   "metadata": {},
   "outputs": [],
   "source": []
  },
  {
   "cell_type": "code",
   "execution_count": null,
   "metadata": {},
   "outputs": [],
   "source": []
  },
  {
   "cell_type": "code",
   "execution_count": null,
   "metadata": {},
   "outputs": [],
   "source": []
  },
  {
   "cell_type": "code",
   "execution_count": null,
   "metadata": {},
   "outputs": [],
   "source": []
  },
  {
   "cell_type": "code",
   "execution_count": null,
   "metadata": {},
   "outputs": [],
   "source": []
  },
  {
   "cell_type": "code",
   "execution_count": null,
   "metadata": {},
   "outputs": [],
   "source": []
  },
  {
   "cell_type": "code",
   "execution_count": null,
   "metadata": {},
   "outputs": [],
   "source": []
  },
  {
   "cell_type": "code",
   "execution_count": null,
   "metadata": {},
   "outputs": [],
   "source": []
  },
  {
   "cell_type": "code",
   "execution_count": null,
   "metadata": {},
   "outputs": [],
   "source": []
  },
  {
   "cell_type": "code",
   "execution_count": null,
   "metadata": {},
   "outputs": [],
   "source": []
  },
  {
   "cell_type": "code",
   "execution_count": null,
   "metadata": {},
   "outputs": [],
   "source": []
  },
  {
   "cell_type": "code",
   "execution_count": null,
   "metadata": {},
   "outputs": [],
   "source": []
  },
  {
   "cell_type": "code",
   "execution_count": null,
   "metadata": {},
   "outputs": [],
   "source": []
  },
  {
   "cell_type": "code",
   "execution_count": null,
   "metadata": {},
   "outputs": [],
   "source": []
  },
  {
   "cell_type": "code",
   "execution_count": null,
   "metadata": {},
   "outputs": [],
   "source": []
  },
  {
   "cell_type": "code",
   "execution_count": null,
   "metadata": {},
   "outputs": [],
   "source": []
  },
  {
   "cell_type": "code",
   "execution_count": null,
   "metadata": {},
   "outputs": [],
   "source": []
  }
 ],
 "metadata": {
  "kernelspec": {
   "display_name": "Python 3",
   "language": "python",
   "name": "python3"
  },
  "language_info": {
   "codemirror_mode": {
    "name": "ipython",
    "version": 3
   },
   "file_extension": ".py",
   "mimetype": "text/x-python",
   "name": "python",
   "nbconvert_exporter": "python",
   "pygments_lexer": "ipython3",
   "version": "3.9.0"
  }
 },
 "nbformat": 4,
 "nbformat_minor": 4
}
